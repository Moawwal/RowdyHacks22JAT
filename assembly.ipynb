{
 "cells": [
  {
   "cell_type": "code",
   "execution_count": 4,
   "metadata": {},
   "outputs": [],
   "source": [
    "import os\n",
    "import requests # pip install requests  \n",
    "import time \n",
    "import json \n",
    "import pandas as pd #pip install pandas  "
   ]
  },
  {
   "cell_type": "code",
   "execution_count": null,
   "metadata": {},
   "outputs": [],
   "source": [
    "__version__ = 'v1.1'\n",
    "__author__ = 'Rowdy Hackers'"
   ]
  },
  {
   "cell_type": "code",
   "execution_count": 6,
   "metadata": {},
   "outputs": [],
   "source": [
    "class AssemblyAI:\n",
    "    api_url = 'https://api.assemblyai.com/v2/'\n",
    "    \n",
    "    #constructor \n",
    "    def __init__(self, api_token):\n",
    "        self.api_token = api_token\n",
    "        \n",
    "    @property\n",
    "    def headers(self):\n",
    "        return{'authoriaztion': self.api_token }\n",
    "        \n",
    "    #upload audio file to transcribe \n",
    "    \n",
    "    def audioUpload_url(self, url_link,remove_filler_words=True, format_text=True, **kwarg):\n",
    "        request_body = {\n",
    "            'audio_url': url_link,\n",
    "            'disfluencies': remove_filler_words,\n",
    "            'format_text': format_text     \n",
    "        } \n",
    "    #'**kwargs' to add any additional features to request body, json object\n",
    "        for key, val in kwarg.items():\n",
    "            request_body[key]= val;   #add each item to request_body object\n",
    "        \n",
    "        #POST request for api\n",
    "        response  = requests.post(self.api_url + 'transcript', headers=self.headers, json=request_body)\n",
    "        return response\n",
    "    def retrieve_transcript(self, transcript_id):\n",
    "        response = requests.get(self.api_url + 'transcript/'+transcript_id, headers=self.headers)\n",
    "        return response.json()\n",
    "    \n",
    "    \n",
    "\n",
    "    \n",
    "        \n",
    "        \n",
    "    \n",
    "    \n",
    "    "
   ]
  },
  {
   "cell_type": "code",
   "execution_count": null,
   "metadata": {},
   "outputs": [],
   "source": []
  },
  {
   "cell_type": "code",
   "execution_count": 2,
   "metadata": {},
   "outputs": [
    {
     "name": "stdout",
     "output_type": "stream",
     "text": [
      "Collecting pandas\n",
      "  Downloading pandas-1.4.1-cp38-cp38-macosx_10_9_x86_64.whl (11.4 MB)\n",
      "\u001b[K     |████████████████████████████████| 11.4 MB 202 kB/s eta 0:00:01    |███████████▍                    | 4.1 MB 265 kB/s eta 0:00:28     |███████████████████████████▊    | 9.8 MB 889 kB/s eta 0:00:02\n",
      "\u001b[?25hRequirement already satisfied: pytz>=2020.1 in /Users/Tomi/opt/anaconda3/lib/python3.8/site-packages (from pandas) (2020.1)\n",
      "Requirement already satisfied: python-dateutil>=2.8.1 in /Users/Tomi/opt/anaconda3/lib/python3.8/site-packages (from pandas) (2.8.1)\n",
      "Requirement already satisfied: numpy>=1.18.5; platform_machine != \"aarch64\" and platform_machine != \"arm64\" and python_version < \"3.10\" in /Users/Tomi/opt/anaconda3/lib/python3.8/site-packages (from pandas) (1.19.5)\n",
      "Requirement already satisfied: six>=1.5 in /Users/Tomi/opt/anaconda3/lib/python3.8/site-packages (from python-dateutil>=2.8.1->pandas) (1.15.0)\n",
      "Installing collected packages: pandas\n",
      "Successfully installed pandas-1.4.1\n",
      "Note: you may need to restart the kernel to use updated packages.\n"
     ]
    }
   ],
   "source": [
    "pip install pandas"
   ]
  },
  {
   "cell_type": "code",
   "execution_count": 3,
   "metadata": {},
   "outputs": [
    {
     "name": "stdout",
     "output_type": "stream",
     "text": [
      "Requirement already satisfied: requests in /Users/Tomi/opt/anaconda3/lib/python3.8/site-packages (2.24.0)\n",
      "Requirement already satisfied: certifi>=2017.4.17 in /Users/Tomi/opt/anaconda3/lib/python3.8/site-packages (from requests) (2020.6.20)\n",
      "Requirement already satisfied: idna<3,>=2.5 in /Users/Tomi/opt/anaconda3/lib/python3.8/site-packages (from requests) (2.10)\n",
      "Requirement already satisfied: urllib3!=1.25.0,!=1.25.1,<1.26,>=1.21.1 in /Users/Tomi/opt/anaconda3/lib/python3.8/site-packages (from requests) (1.25.11)\n",
      "Requirement already satisfied: chardet<4,>=3.0.2 in /Users/Tomi/opt/anaconda3/lib/python3.8/site-packages (from requests) (3.0.4)\n",
      "Note: you may need to restart the kernel to use updated packages.\n"
     ]
    }
   ],
   "source": [
    "pip install requests "
   ]
  },
  {
   "cell_type": "code",
   "execution_count": null,
   "metadata": {},
   "outputs": [],
   "source": []
  }
 ],
 "metadata": {
  "kernelspec": {
   "display_name": "Python 3",
   "language": "python",
   "name": "python3"
  },
  "language_info": {
   "codemirror_mode": {
    "name": "ipython",
    "version": 3
   },
   "file_extension": ".py",
   "mimetype": "text/x-python",
   "name": "python",
   "nbconvert_exporter": "python",
   "pygments_lexer": "ipython3",
   "version": "3.8.3"
  }
 },
 "nbformat": 4,
 "nbformat_minor": 4
}
